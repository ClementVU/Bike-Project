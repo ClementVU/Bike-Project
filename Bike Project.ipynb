{
 "cells": [
  {
   "cell_type": "markdown",
   "id": "a2d5134b",
   "metadata": {},
   "source": [
    "## Prepare : \n",
    "1. Where is your data located ?\n",
    "    > on the following website : https://divvy-tripdata.s3.amazonaws.com/index.html\n",
    "1. how is the data organized ?\n",
    "> in different csv where one csv represent one month\n",
    "\n",
    "1. Does your data ROCCC?\n",
    "> yes, data answer correctly to the ROCCC conditions\n",
    "\n",
    "1. How are you addressing licensing, privacy, security, and accessibility?\n",
    "> \n",
    "1.  How did you verify the data’s integrity?\n",
    "> I checked missing values thanks to seaborn library\n",
    "1. How does it help you answer your question?\n",
    "> I avoid bias by cleaning datas\n",
    "1. Are there any problems with the data?\n",
    "> There are some missing values that can be completed that representent only a  minority of the dataset"
   ]
  },
  {
   "cell_type": "code",
   "execution_count": 1,
   "id": "7c1a6989",
   "metadata": {},
   "outputs": [],
   "source": [
    "# Import libraries\n",
    "import numpy as np\n",
    "import pandas as pd\n",
    "import seaborn as sns\n",
    "import matplotlib.pyplot as plt  "
   ]
  },
  {
   "cell_type": "code",
   "execution_count": 44,
   "id": "d21a45fb",
   "metadata": {},
   "outputs": [
    {
     "data": {
      "text/html": [
       "<div>\n",
       "<style scoped>\n",
       "    .dataframe tbody tr th:only-of-type {\n",
       "        vertical-align: middle;\n",
       "    }\n",
       "\n",
       "    .dataframe tbody tr th {\n",
       "        vertical-align: top;\n",
       "    }\n",
       "\n",
       "    .dataframe thead th {\n",
       "        text-align: right;\n",
       "    }\n",
       "</style>\n",
       "<table border=\"1\" class=\"dataframe\">\n",
       "  <thead>\n",
       "    <tr style=\"text-align: right;\">\n",
       "      <th></th>\n",
       "      <th>ride_id</th>\n",
       "      <th>rideable_type</th>\n",
       "      <th>started_at</th>\n",
       "      <th>ended_at</th>\n",
       "      <th>start_station_name</th>\n",
       "      <th>start_station_id</th>\n",
       "      <th>end_station_name</th>\n",
       "      <th>end_station_id</th>\n",
       "      <th>start_lat</th>\n",
       "      <th>start_lng</th>\n",
       "      <th>end_lat</th>\n",
       "      <th>end_lng</th>\n",
       "      <th>member_casual</th>\n",
       "    </tr>\n",
       "  </thead>\n",
       "  <tbody>\n",
       "    <tr>\n",
       "      <th>0</th>\n",
       "      <td>89E7AA6C29227EFF</td>\n",
       "      <td>classic_bike</td>\n",
       "      <td>2021-02-12 16:14:56</td>\n",
       "      <td>2021-02-12 16:21:43</td>\n",
       "      <td>Glenwood Ave &amp; Touhy Ave</td>\n",
       "      <td>525</td>\n",
       "      <td>Sheridan Rd &amp; Columbia Ave</td>\n",
       "      <td>660</td>\n",
       "      <td>42.012701</td>\n",
       "      <td>-87.666058</td>\n",
       "      <td>42.004583</td>\n",
       "      <td>-87.661406</td>\n",
       "      <td>member</td>\n",
       "    </tr>\n",
       "    <tr>\n",
       "      <th>1</th>\n",
       "      <td>0FEFDE2603568365</td>\n",
       "      <td>classic_bike</td>\n",
       "      <td>2021-02-14 17:52:38</td>\n",
       "      <td>2021-02-14 18:12:09</td>\n",
       "      <td>Glenwood Ave &amp; Touhy Ave</td>\n",
       "      <td>525</td>\n",
       "      <td>Bosworth Ave &amp; Howard St</td>\n",
       "      <td>16806</td>\n",
       "      <td>42.012701</td>\n",
       "      <td>-87.666058</td>\n",
       "      <td>42.019537</td>\n",
       "      <td>-87.669563</td>\n",
       "      <td>casual</td>\n",
       "    </tr>\n",
       "    <tr>\n",
       "      <th>2</th>\n",
       "      <td>E6159D746B2DBB91</td>\n",
       "      <td>electric_bike</td>\n",
       "      <td>2021-02-09 19:10:18</td>\n",
       "      <td>2021-02-09 19:19:10</td>\n",
       "      <td>Clark St &amp; Lake St</td>\n",
       "      <td>KA1503000012</td>\n",
       "      <td>State St &amp; Randolph St</td>\n",
       "      <td>TA1305000029</td>\n",
       "      <td>41.885795</td>\n",
       "      <td>-87.631101</td>\n",
       "      <td>41.884866</td>\n",
       "      <td>-87.627498</td>\n",
       "      <td>member</td>\n",
       "    </tr>\n",
       "    <tr>\n",
       "      <th>3</th>\n",
       "      <td>B32D3199F1C2E75B</td>\n",
       "      <td>classic_bike</td>\n",
       "      <td>2021-02-02 17:49:41</td>\n",
       "      <td>2021-02-02 17:54:06</td>\n",
       "      <td>Wood St &amp; Chicago Ave</td>\n",
       "      <td>637</td>\n",
       "      <td>Honore St &amp; Division St</td>\n",
       "      <td>TA1305000034</td>\n",
       "      <td>41.895634</td>\n",
       "      <td>-87.672069</td>\n",
       "      <td>41.903119</td>\n",
       "      <td>-87.673935</td>\n",
       "      <td>member</td>\n",
       "    </tr>\n",
       "    <tr>\n",
       "      <th>4</th>\n",
       "      <td>83E463F23575F4BF</td>\n",
       "      <td>electric_bike</td>\n",
       "      <td>2021-02-23 15:07:23</td>\n",
       "      <td>2021-02-23 15:22:37</td>\n",
       "      <td>State St &amp; 33rd St</td>\n",
       "      <td>13216</td>\n",
       "      <td>Emerald Ave &amp; 31st St</td>\n",
       "      <td>TA1309000055</td>\n",
       "      <td>41.834733</td>\n",
       "      <td>-87.625827</td>\n",
       "      <td>41.838163</td>\n",
       "      <td>-87.645123</td>\n",
       "      <td>member</td>\n",
       "    </tr>\n",
       "    <tr>\n",
       "      <th>5</th>\n",
       "      <td>BDAA7E3494E8D545</td>\n",
       "      <td>electric_bike</td>\n",
       "      <td>2021-02-24 15:43:33</td>\n",
       "      <td>2021-02-24 15:49:05</td>\n",
       "      <td>Fairbanks St &amp; Superior St</td>\n",
       "      <td>18003</td>\n",
       "      <td>LaSalle Dr &amp; Huron St</td>\n",
       "      <td>KP1705001026</td>\n",
       "      <td>41.895808</td>\n",
       "      <td>-87.620253</td>\n",
       "      <td>41.894886</td>\n",
       "      <td>-87.631979</td>\n",
       "      <td>casual</td>\n",
       "    </tr>\n",
       "    <tr>\n",
       "      <th>6</th>\n",
       "      <td>A772742351171257</td>\n",
       "      <td>classic_bike</td>\n",
       "      <td>2021-02-01 17:47:42</td>\n",
       "      <td>2021-02-01 17:48:33</td>\n",
       "      <td>LaSalle Dr &amp; Huron St</td>\n",
       "      <td>KP1705001026</td>\n",
       "      <td>LaSalle Dr &amp; Huron St</td>\n",
       "      <td>KP1705001026</td>\n",
       "      <td>41.894877</td>\n",
       "      <td>-87.632326</td>\n",
       "      <td>41.894877</td>\n",
       "      <td>-87.632326</td>\n",
       "      <td>casual</td>\n",
       "    </tr>\n",
       "    <tr>\n",
       "      <th>7</th>\n",
       "      <td>295476889D9B79F8</td>\n",
       "      <td>classic_bike</td>\n",
       "      <td>2021-02-11 18:33:53</td>\n",
       "      <td>2021-02-11 18:35:09</td>\n",
       "      <td>Fairbanks St &amp; Superior St</td>\n",
       "      <td>18003</td>\n",
       "      <td>Fairbanks St &amp; Superior St</td>\n",
       "      <td>18003</td>\n",
       "      <td>41.895748</td>\n",
       "      <td>-87.620104</td>\n",
       "      <td>41.895748</td>\n",
       "      <td>-87.620104</td>\n",
       "      <td>member</td>\n",
       "    </tr>\n",
       "    <tr>\n",
       "      <th>8</th>\n",
       "      <td>362087194BA4CC9A</td>\n",
       "      <td>classic_bike</td>\n",
       "      <td>2021-02-27 15:13:39</td>\n",
       "      <td>2021-02-27 15:36:36</td>\n",
       "      <td>LaSalle Dr &amp; Huron St</td>\n",
       "      <td>KP1705001026</td>\n",
       "      <td>LaSalle Dr &amp; Huron St</td>\n",
       "      <td>KP1705001026</td>\n",
       "      <td>41.894877</td>\n",
       "      <td>-87.632326</td>\n",
       "      <td>41.894877</td>\n",
       "      <td>-87.632326</td>\n",
       "      <td>member</td>\n",
       "    </tr>\n",
       "    <tr>\n",
       "      <th>9</th>\n",
       "      <td>21630F715038CCB0</td>\n",
       "      <td>classic_bike</td>\n",
       "      <td>2021-02-20 08:59:42</td>\n",
       "      <td>2021-02-20 09:17:04</td>\n",
       "      <td>LaSalle Dr &amp; Huron St</td>\n",
       "      <td>KP1705001026</td>\n",
       "      <td>LaSalle Dr &amp; Huron St</td>\n",
       "      <td>KP1705001026</td>\n",
       "      <td>41.894877</td>\n",
       "      <td>-87.632326</td>\n",
       "      <td>41.894877</td>\n",
       "      <td>-87.632326</td>\n",
       "      <td>member</td>\n",
       "    </tr>\n",
       "    <tr>\n",
       "      <th>10</th>\n",
       "      <td>A977EB7FE7F5CD3A</td>\n",
       "      <td>classic_bike</td>\n",
       "      <td>2021-02-20 08:58:16</td>\n",
       "      <td>2021-02-20 08:58:41</td>\n",
       "      <td>LaSalle Dr &amp; Huron St</td>\n",
       "      <td>KP1705001026</td>\n",
       "      <td>LaSalle Dr &amp; Huron St</td>\n",
       "      <td>KP1705001026</td>\n",
       "      <td>41.894877</td>\n",
       "      <td>-87.632326</td>\n",
       "      <td>41.894877</td>\n",
       "      <td>-87.632326</td>\n",
       "      <td>member</td>\n",
       "    </tr>\n",
       "    <tr>\n",
       "      <th>11</th>\n",
       "      <td>8B868B03D6753C2A</td>\n",
       "      <td>classic_bike</td>\n",
       "      <td>2021-02-20 16:45:11</td>\n",
       "      <td>2021-02-20 16:59:47</td>\n",
       "      <td>LaSalle Dr &amp; Huron St</td>\n",
       "      <td>KP1705001026</td>\n",
       "      <td>LaSalle Dr &amp; Huron St</td>\n",
       "      <td>KP1705001026</td>\n",
       "      <td>41.894877</td>\n",
       "      <td>-87.632326</td>\n",
       "      <td>41.894877</td>\n",
       "      <td>-87.632326</td>\n",
       "      <td>member</td>\n",
       "    </tr>\n",
       "    <tr>\n",
       "      <th>12</th>\n",
       "      <td>BD331D658B9D2C31</td>\n",
       "      <td>classic_bike</td>\n",
       "      <td>2021-02-18 13:21:03</td>\n",
       "      <td>2021-02-18 13:25:20</td>\n",
       "      <td>Glenwood Ave &amp; Touhy Ave</td>\n",
       "      <td>525</td>\n",
       "      <td>Greenview Ave &amp; Jarvis Ave</td>\n",
       "      <td>520</td>\n",
       "      <td>42.012701</td>\n",
       "      <td>-87.666058</td>\n",
       "      <td>42.015962</td>\n",
       "      <td>-87.668570</td>\n",
       "      <td>member</td>\n",
       "    </tr>\n",
       "    <tr>\n",
       "      <th>13</th>\n",
       "      <td>8DFEA9BAFE6BAA62</td>\n",
       "      <td>classic_bike</td>\n",
       "      <td>2021-02-26 17:40:05</td>\n",
       "      <td>2021-02-26 17:42:49</td>\n",
       "      <td>Lincoln Ave &amp; Waveland Ave</td>\n",
       "      <td>13253</td>\n",
       "      <td>Lincoln Ave &amp; Addison St</td>\n",
       "      <td>TA1309000050</td>\n",
       "      <td>41.948797</td>\n",
       "      <td>-87.675278</td>\n",
       "      <td>41.946176</td>\n",
       "      <td>-87.673308</td>\n",
       "      <td>member</td>\n",
       "    </tr>\n",
       "    <tr>\n",
       "      <th>14</th>\n",
       "      <td>27BE9F6E67AFD86C</td>\n",
       "      <td>classic_bike</td>\n",
       "      <td>2021-02-06 14:40:25</td>\n",
       "      <td>2021-02-06 14:55:50</td>\n",
       "      <td>Glenwood Ave &amp; Touhy Ave</td>\n",
       "      <td>525</td>\n",
       "      <td>Broadway &amp; Ridge Ave</td>\n",
       "      <td>15578</td>\n",
       "      <td>42.012701</td>\n",
       "      <td>-87.666058</td>\n",
       "      <td>41.984045</td>\n",
       "      <td>-87.660274</td>\n",
       "      <td>member</td>\n",
       "    </tr>\n",
       "    <tr>\n",
       "      <th>15</th>\n",
       "      <td>9B790D47A0A0F7F1</td>\n",
       "      <td>classic_bike</td>\n",
       "      <td>2021-02-19 23:25:40</td>\n",
       "      <td>2021-02-20 00:10:00</td>\n",
       "      <td>Rush St &amp; Hubbard St</td>\n",
       "      <td>KA1503000044</td>\n",
       "      <td>Drake Ave &amp; Addison St</td>\n",
       "      <td>KA1504000142</td>\n",
       "      <td>41.890173</td>\n",
       "      <td>-87.626185</td>\n",
       "      <td>41.947326</td>\n",
       "      <td>-87.717582</td>\n",
       "      <td>member</td>\n",
       "    </tr>\n",
       "    <tr>\n",
       "      <th>16</th>\n",
       "      <td>3C2DF72600B1DE6C</td>\n",
       "      <td>classic_bike</td>\n",
       "      <td>2021-02-18 23:20:10</td>\n",
       "      <td>2021-02-19 00:01:39</td>\n",
       "      <td>Rush St &amp; Hubbard St</td>\n",
       "      <td>KA1503000044</td>\n",
       "      <td>Drake Ave &amp; Addison St</td>\n",
       "      <td>KA1504000142</td>\n",
       "      <td>41.890173</td>\n",
       "      <td>-87.626185</td>\n",
       "      <td>41.947326</td>\n",
       "      <td>-87.717582</td>\n",
       "      <td>member</td>\n",
       "    </tr>\n",
       "    <tr>\n",
       "      <th>17</th>\n",
       "      <td>48A8D07ED9C7065C</td>\n",
       "      <td>classic_bike</td>\n",
       "      <td>2021-02-20 23:35:29</td>\n",
       "      <td>2021-02-21 00:17:18</td>\n",
       "      <td>Rush St &amp; Hubbard St</td>\n",
       "      <td>KA1503000044</td>\n",
       "      <td>Drake Ave &amp; Addison St</td>\n",
       "      <td>KA1504000142</td>\n",
       "      <td>41.890173</td>\n",
       "      <td>-87.626185</td>\n",
       "      <td>41.947326</td>\n",
       "      <td>-87.717582</td>\n",
       "      <td>member</td>\n",
       "    </tr>\n",
       "    <tr>\n",
       "      <th>18</th>\n",
       "      <td>BBFF2AAA0A3A1A26</td>\n",
       "      <td>electric_bike</td>\n",
       "      <td>2021-02-02 15:48:52</td>\n",
       "      <td>2021-02-02 16:03:40</td>\n",
       "      <td>Winchester Ave &amp; Elston Ave</td>\n",
       "      <td>KA1504000140</td>\n",
       "      <td>California Ave &amp; Cortez St</td>\n",
       "      <td>17660</td>\n",
       "      <td>41.924037</td>\n",
       "      <td>-87.676415</td>\n",
       "      <td>41.900281</td>\n",
       "      <td>-87.696611</td>\n",
       "      <td>member</td>\n",
       "    </tr>\n",
       "    <tr>\n",
       "      <th>19</th>\n",
       "      <td>030723CBA8CF05E7</td>\n",
       "      <td>classic_bike</td>\n",
       "      <td>2021-02-23 07:44:12</td>\n",
       "      <td>2021-02-23 07:48:57</td>\n",
       "      <td>Clinton St &amp; Madison St</td>\n",
       "      <td>TA1305000032</td>\n",
       "      <td>Clinton St &amp; Polk St</td>\n",
       "      <td>15542</td>\n",
       "      <td>41.882242</td>\n",
       "      <td>-87.641066</td>\n",
       "      <td>41.871467</td>\n",
       "      <td>-87.640949</td>\n",
       "      <td>member</td>\n",
       "    </tr>\n",
       "  </tbody>\n",
       "</table>\n",
       "</div>"
      ],
      "text/plain": [
       "             ride_id  rideable_type           started_at             ended_at  \\\n",
       "0   89E7AA6C29227EFF   classic_bike  2021-02-12 16:14:56  2021-02-12 16:21:43   \n",
       "1   0FEFDE2603568365   classic_bike  2021-02-14 17:52:38  2021-02-14 18:12:09   \n",
       "2   E6159D746B2DBB91  electric_bike  2021-02-09 19:10:18  2021-02-09 19:19:10   \n",
       "3   B32D3199F1C2E75B   classic_bike  2021-02-02 17:49:41  2021-02-02 17:54:06   \n",
       "4   83E463F23575F4BF  electric_bike  2021-02-23 15:07:23  2021-02-23 15:22:37   \n",
       "5   BDAA7E3494E8D545  electric_bike  2021-02-24 15:43:33  2021-02-24 15:49:05   \n",
       "6   A772742351171257   classic_bike  2021-02-01 17:47:42  2021-02-01 17:48:33   \n",
       "7   295476889D9B79F8   classic_bike  2021-02-11 18:33:53  2021-02-11 18:35:09   \n",
       "8   362087194BA4CC9A   classic_bike  2021-02-27 15:13:39  2021-02-27 15:36:36   \n",
       "9   21630F715038CCB0   classic_bike  2021-02-20 08:59:42  2021-02-20 09:17:04   \n",
       "10  A977EB7FE7F5CD3A   classic_bike  2021-02-20 08:58:16  2021-02-20 08:58:41   \n",
       "11  8B868B03D6753C2A   classic_bike  2021-02-20 16:45:11  2021-02-20 16:59:47   \n",
       "12  BD331D658B9D2C31   classic_bike  2021-02-18 13:21:03  2021-02-18 13:25:20   \n",
       "13  8DFEA9BAFE6BAA62   classic_bike  2021-02-26 17:40:05  2021-02-26 17:42:49   \n",
       "14  27BE9F6E67AFD86C   classic_bike  2021-02-06 14:40:25  2021-02-06 14:55:50   \n",
       "15  9B790D47A0A0F7F1   classic_bike  2021-02-19 23:25:40  2021-02-20 00:10:00   \n",
       "16  3C2DF72600B1DE6C   classic_bike  2021-02-18 23:20:10  2021-02-19 00:01:39   \n",
       "17  48A8D07ED9C7065C   classic_bike  2021-02-20 23:35:29  2021-02-21 00:17:18   \n",
       "18  BBFF2AAA0A3A1A26  electric_bike  2021-02-02 15:48:52  2021-02-02 16:03:40   \n",
       "19  030723CBA8CF05E7   classic_bike  2021-02-23 07:44:12  2021-02-23 07:48:57   \n",
       "\n",
       "             start_station_name start_station_id            end_station_name  \\\n",
       "0      Glenwood Ave & Touhy Ave              525  Sheridan Rd & Columbia Ave   \n",
       "1      Glenwood Ave & Touhy Ave              525    Bosworth Ave & Howard St   \n",
       "2            Clark St & Lake St     KA1503000012      State St & Randolph St   \n",
       "3         Wood St & Chicago Ave              637     Honore St & Division St   \n",
       "4            State St & 33rd St            13216       Emerald Ave & 31st St   \n",
       "5    Fairbanks St & Superior St            18003       LaSalle Dr & Huron St   \n",
       "6         LaSalle Dr & Huron St     KP1705001026       LaSalle Dr & Huron St   \n",
       "7    Fairbanks St & Superior St            18003  Fairbanks St & Superior St   \n",
       "8         LaSalle Dr & Huron St     KP1705001026       LaSalle Dr & Huron St   \n",
       "9         LaSalle Dr & Huron St     KP1705001026       LaSalle Dr & Huron St   \n",
       "10        LaSalle Dr & Huron St     KP1705001026       LaSalle Dr & Huron St   \n",
       "11        LaSalle Dr & Huron St     KP1705001026       LaSalle Dr & Huron St   \n",
       "12     Glenwood Ave & Touhy Ave              525  Greenview Ave & Jarvis Ave   \n",
       "13   Lincoln Ave & Waveland Ave            13253    Lincoln Ave & Addison St   \n",
       "14     Glenwood Ave & Touhy Ave              525        Broadway & Ridge Ave   \n",
       "15         Rush St & Hubbard St     KA1503000044      Drake Ave & Addison St   \n",
       "16         Rush St & Hubbard St     KA1503000044      Drake Ave & Addison St   \n",
       "17         Rush St & Hubbard St     KA1503000044      Drake Ave & Addison St   \n",
       "18  Winchester Ave & Elston Ave     KA1504000140  California Ave & Cortez St   \n",
       "19      Clinton St & Madison St     TA1305000032        Clinton St & Polk St   \n",
       "\n",
       "   end_station_id  start_lat  start_lng    end_lat    end_lng member_casual  \n",
       "0             660  42.012701 -87.666058  42.004583 -87.661406        member  \n",
       "1           16806  42.012701 -87.666058  42.019537 -87.669563        casual  \n",
       "2    TA1305000029  41.885795 -87.631101  41.884866 -87.627498        member  \n",
       "3    TA1305000034  41.895634 -87.672069  41.903119 -87.673935        member  \n",
       "4    TA1309000055  41.834733 -87.625827  41.838163 -87.645123        member  \n",
       "5    KP1705001026  41.895808 -87.620253  41.894886 -87.631979        casual  \n",
       "6    KP1705001026  41.894877 -87.632326  41.894877 -87.632326        casual  \n",
       "7           18003  41.895748 -87.620104  41.895748 -87.620104        member  \n",
       "8    KP1705001026  41.894877 -87.632326  41.894877 -87.632326        member  \n",
       "9    KP1705001026  41.894877 -87.632326  41.894877 -87.632326        member  \n",
       "10   KP1705001026  41.894877 -87.632326  41.894877 -87.632326        member  \n",
       "11   KP1705001026  41.894877 -87.632326  41.894877 -87.632326        member  \n",
       "12            520  42.012701 -87.666058  42.015962 -87.668570        member  \n",
       "13   TA1309000050  41.948797 -87.675278  41.946176 -87.673308        member  \n",
       "14          15578  42.012701 -87.666058  41.984045 -87.660274        member  \n",
       "15   KA1504000142  41.890173 -87.626185  41.947326 -87.717582        member  \n",
       "16   KA1504000142  41.890173 -87.626185  41.947326 -87.717582        member  \n",
       "17   KA1504000142  41.890173 -87.626185  41.947326 -87.717582        member  \n",
       "18          17660  41.924037 -87.676415  41.900281 -87.696611        member  \n",
       "19          15542  41.882242 -87.641066  41.871467 -87.640949        member  "
      ]
     },
     "execution_count": 44,
     "metadata": {},
     "output_type": "execute_result"
    }
   ],
   "source": [
    "# check the csv format\n",
    "pd.set_option(\"display.max_rows\", None, \"display.max_columns\", None)\n",
    "pd.read_csv('data/202102-divvy-tripdata.csv').head(20)"
   ]
  },
  {
   "cell_type": "code",
   "execution_count": 3,
   "id": "7c3a2158",
   "metadata": {},
   "outputs": [],
   "source": [
    "# put file names into a list\n",
    "files_names = []\n",
    "for i in range(2,13):\n",
    "    files_names.append(f'data/2021{str(i).zfill(2)}-divvy-tripdata.csv')"
   ]
  },
  {
   "cell_type": "code",
   "execution_count": 4,
   "id": "c2b28534",
   "metadata": {},
   "outputs": [],
   "source": [
    "# add the last file name (2022) into the list\n",
    "files_names.append(\"data/202201-divvy-tripdata.csv\")"
   ]
  },
  {
   "cell_type": "code",
   "execution_count": 5,
   "id": "69df496c",
   "metadata": {
    "scrolled": true
   },
   "outputs": [
    {
     "data": {
      "text/plain": [
       "['data/202102-divvy-tripdata.csv',\n",
       " 'data/202103-divvy-tripdata.csv',\n",
       " 'data/202104-divvy-tripdata.csv',\n",
       " 'data/202105-divvy-tripdata.csv',\n",
       " 'data/202106-divvy-tripdata.csv',\n",
       " 'data/202107-divvy-tripdata.csv',\n",
       " 'data/202108-divvy-tripdata.csv',\n",
       " 'data/202109-divvy-tripdata.csv',\n",
       " 'data/202110-divvy-tripdata.csv',\n",
       " 'data/202111-divvy-tripdata.csv',\n",
       " 'data/202112-divvy-tripdata.csv',\n",
       " 'data/202201-divvy-tripdata.csv']"
      ]
     },
     "execution_count": 5,
     "metadata": {},
     "output_type": "execute_result"
    }
   ],
   "source": [
    "# check if the list of name is correct\n",
    "files_names"
   ]
  },
  {
   "cell_type": "code",
   "execution_count": 6,
   "id": "f1c395f9",
   "metadata": {},
   "outputs": [],
   "source": [
    "# read all files_names as df\n",
    "df_list = []\n",
    "for file in files_names:\n",
    "    df_list.append(pd.read_csv(file))  "
   ]
  },
  {
   "cell_type": "code",
   "execution_count": 7,
   "id": "d8f43608",
   "metadata": {},
   "outputs": [],
   "source": [
    "# joining list of dataframes into a single one - ignore_index allows to not reset the index during the merge\n",
    "merged_df = pd.concat(df_list,ignore_index=True)"
   ]
  },
  {
   "cell_type": "code",
   "execution_count": 8,
   "id": "7b09d7b6",
   "metadata": {},
   "outputs": [
    {
     "name": "stdout",
     "output_type": "stream",
     "text": [
      "<class 'pandas.core.frame.DataFrame'>\n",
      "RangeIndex: 5601999 entries, 0 to 5601998\n",
      "Data columns (total 13 columns):\n",
      " #   Column              Dtype  \n",
      "---  ------              -----  \n",
      " 0   ride_id             object \n",
      " 1   rideable_type       object \n",
      " 2   started_at          object \n",
      " 3   ended_at            object \n",
      " 4   start_station_name  object \n",
      " 5   start_station_id    object \n",
      " 6   end_station_name    object \n",
      " 7   end_station_id      object \n",
      " 8   start_lat           float64\n",
      " 9   start_lng           float64\n",
      " 10  end_lat             float64\n",
      " 11  end_lng             float64\n",
      " 12  member_casual       object \n",
      "dtypes: float64(4), object(9)\n",
      "memory usage: 555.6+ MB\n"
     ]
    }
   ],
   "source": [
    "# recup all the Dtype \n",
    "merged_df.info()"
   ]
  },
  {
   "cell_type": "code",
   "execution_count": 9,
   "id": "d82e7776",
   "metadata": {},
   "outputs": [
    {
     "data": {
      "text/html": [
       "<div>\n",
       "<style scoped>\n",
       "    .dataframe tbody tr th:only-of-type {\n",
       "        vertical-align: middle;\n",
       "    }\n",
       "\n",
       "    .dataframe tbody tr th {\n",
       "        vertical-align: top;\n",
       "    }\n",
       "\n",
       "    .dataframe thead th {\n",
       "        text-align: right;\n",
       "    }\n",
       "</style>\n",
       "<table border=\"1\" class=\"dataframe\">\n",
       "  <thead>\n",
       "    <tr style=\"text-align: right;\">\n",
       "      <th></th>\n",
       "      <th>start_lat</th>\n",
       "      <th>start_lng</th>\n",
       "      <th>end_lat</th>\n",
       "      <th>end_lng</th>\n",
       "    </tr>\n",
       "  </thead>\n",
       "  <tbody>\n",
       "    <tr>\n",
       "      <th>count</th>\n",
       "      <td>5601999.00000</td>\n",
       "      <td>5601999.00000</td>\n",
       "      <td>5597245.00000</td>\n",
       "      <td>5597245.00000</td>\n",
       "    </tr>\n",
       "    <tr>\n",
       "      <th>mean</th>\n",
       "      <td>41.90100</td>\n",
       "      <td>-87.64609</td>\n",
       "      <td>41.90127</td>\n",
       "      <td>-87.64631</td>\n",
       "    </tr>\n",
       "    <tr>\n",
       "      <th>std</th>\n",
       "      <td>0.04614</td>\n",
       "      <td>0.02939</td>\n",
       "      <td>0.04622</td>\n",
       "      <td>0.02898</td>\n",
       "    </tr>\n",
       "    <tr>\n",
       "      <th>min</th>\n",
       "      <td>41.64000</td>\n",
       "      <td>-87.84000</td>\n",
       "      <td>41.39000</td>\n",
       "      <td>-88.97000</td>\n",
       "    </tr>\n",
       "    <tr>\n",
       "      <th>25%</th>\n",
       "      <td>41.88137</td>\n",
       "      <td>-87.66000</td>\n",
       "      <td>41.88170</td>\n",
       "      <td>-87.66014</td>\n",
       "    </tr>\n",
       "    <tr>\n",
       "      <th>50%</th>\n",
       "      <td>41.89897</td>\n",
       "      <td>-87.64182</td>\n",
       "      <td>41.89964</td>\n",
       "      <td>-87.64275</td>\n",
       "    </tr>\n",
       "    <tr>\n",
       "      <th>75%</th>\n",
       "      <td>41.92906</td>\n",
       "      <td>-87.62773</td>\n",
       "      <td>41.92914</td>\n",
       "      <td>-87.62775</td>\n",
       "    </tr>\n",
       "    <tr>\n",
       "      <th>max</th>\n",
       "      <td>45.63503</td>\n",
       "      <td>-73.79648</td>\n",
       "      <td>42.16812</td>\n",
       "      <td>-87.49000</td>\n",
       "    </tr>\n",
       "  </tbody>\n",
       "</table>\n",
       "</div>"
      ],
      "text/plain": [
       "           start_lat      start_lng        end_lat        end_lng\n",
       "count  5601999.00000  5601999.00000  5597245.00000  5597245.00000\n",
       "mean        41.90100      -87.64609       41.90127      -87.64631\n",
       "std          0.04614        0.02939        0.04622        0.02898\n",
       "min         41.64000      -87.84000       41.39000      -88.97000\n",
       "25%         41.88137      -87.66000       41.88170      -87.66014\n",
       "50%         41.89897      -87.64182       41.89964      -87.64275\n",
       "75%         41.92906      -87.62773       41.92914      -87.62775\n",
       "max         45.63503      -73.79648       42.16812      -87.49000"
      ]
     },
     "execution_count": 9,
     "metadata": {},
     "output_type": "execute_result"
    }
   ],
   "source": [
    "# description that allows me to get different numerical values \n",
    "# Std / min / max ...\n",
    "merged_df.describe().apply(lambda s: s.apply('{0:.5f}'.format))"
   ]
  },
  {
   "cell_type": "code",
   "execution_count": 10,
   "id": "bdf72741",
   "metadata": {},
   "outputs": [
    {
     "data": {
      "text/plain": [
       "<Figure size 720x432 with 0 Axes>"
      ]
     },
     "metadata": {},
     "output_type": "display_data"
    },
    {
     "data": {
      "image/png": "[encoded data removed]",
      "text/plain": [
       "<Figure size 511.25x360 with 1 Axes>"
      ]
     },
     "metadata": {
      "needs_background": "light"
     },
     "output_type": "display_data"
    }
   ],
   "source": [
    "# make a visualization that allows me to know where are the missing values on the dataset\n",
    "\n",
    "plt.figure(figsize=(10,6))\n",
    "sns.displot(\n",
    "    data=merged_df.isna().melt(value_name=\"missing\"),\n",
    "    y=\"variable\",\n",
    "    hue=\"missing\",\n",
    "    multiple=\"fill\",\n",
    "    aspect=1.25\n",
    ")\n",
    "plt.savefig(\"visualizing_missing_data_with_barplot_Seaborn_distplot.png\", dpi=100)"
   ]
  },
  {
   "cell_type": "code",
   "execution_count": 11,
   "id": "4d36ed19",
   "metadata": {
    "scrolled": false
   },
   "outputs": [
    {
     "name": "stderr",
     "output_type": "stream",
     "text": [
      "C:\\Users\\clmen\\OneDrive\\Bureau\\PROJET\\Case_Study_Bike\\venv\\lib\\site-packages\\seaborn\\distributions.py:2619: FutureWarning: `distplot` is a deprecated function and will be removed in a future version. Please adapt your code to use either `displot` (a figure-level function with similar flexibility) or `histplot` (an axes-level function for histograms).\n",
      "  warnings.warn(msg, FutureWarning)\n"
     ]
    },
    {
     "data": {
      "text/plain": [
       "<AxesSubplot:xlabel='start_lat', ylabel='Density'>"
      ]
     },
     "execution_count": 11,
     "metadata": {},
     "output_type": "execute_result"
    },
    {
     "data": {
      "image/png": "[encoded data removed]",
      "text/plain": [
       "<Figure size 432x288 with 1 Axes>"
      ]
     },
     "metadata": {},
     "output_type": "display_data"
    }
   ],
   "source": [
    "# Distribution or Density of the \"start_lat\"\n",
    "sns.set(style = 'darkgrid')\n",
    "sns.distplot(merged_df['start_lat'])"
   ]
  },
  {
   "cell_type": "code",
   "execution_count": 12,
   "id": "c9cc4897",
   "metadata": {},
   "outputs": [
    {
     "data": {
      "text/plain": [
       "0    16\n",
       "1    16\n",
       "2    16\n",
       "3    16\n",
       "4    16\n",
       "Name: ride_id, dtype: int64"
      ]
     },
     "execution_count": 12,
     "metadata": {},
     "output_type": "execute_result"
    }
   ],
   "source": [
    "# According to the dataset, ride_id must be in 16 values format\n",
    "merged_df['ride_id'].head().str.len()"
   ]
  },
  {
   "cell_type": "code",
   "execution_count": 13,
   "id": "be2c7a05",
   "metadata": {},
   "outputs": [],
   "source": [
    "# check of the format for the \"ride_id\"\n",
    "merged_df['ride_id_lengths'] = merged_df['ride_id'].astype(str).map(len) == 16"
   ]
  },
  {
   "cell_type": "code",
   "execution_count": 14,
   "id": "5e98fee4",
   "metadata": {},
   "outputs": [
    {
     "data": {
      "text/plain": [
       "0    True\n",
       "1    True\n",
       "2    True\n",
       "3    True\n",
       "4    True\n",
       "Name: ride_id_lengths, dtype: bool"
      ]
     },
     "execution_count": 14,
     "metadata": {},
     "output_type": "execute_result"
    }
   ],
   "source": [
    "# True or False check\n",
    "merged_df['ride_id_lengths'].head()\n"
   ]
  },
  {
   "cell_type": "code",
   "execution_count": 15,
   "id": "8a66f6ac",
   "metadata": {
    "scrolled": true
   },
   "outputs": [
    {
     "data": {
      "text/plain": [
       "<AxesSubplot:xlabel='ride_id_lengths', ylabel='count'>"
      ]
     },
     "execution_count": 15,
     "metadata": {},
     "output_type": "execute_result"
    },
    {
     "data": {
      "image/png": "[encoded data removed]",
      "text/plain": [
       "<Figure size 432x288 with 1 Axes>"
      ]
     },
     "metadata": {},
     "output_type": "display_data"
    }
   ],
   "source": [
    "# Plot that represent true or false values for ride_id_length function\n",
    "sns.countplot(x=\"ride_id_lengths\", data=merged_df)"
   ]
  },
  {
   "cell_type": "markdown",
   "id": "86ddc90e",
   "metadata": {},
   "source": [
    "## Process : \n",
    "1. What tools are you choosing and why ?\n",
    "    > To check errors or missing values I use the seaborn libary\n",
    "    > different functions and plots to illustrate what we are cleaning\n",
    "\n",
    "1. Have you ensured your data's integrity?\n",
    "    > Yes I did, thanks to Excel sorting + seaborn / panda / matplotlib. \n",
    "\n",
    "1. What steps have you taken to ensure that your data is clean?\n",
    "    > Loading data - Check data integrity - Check data format\n",
    "1. How can you verify that your data is clean and ready to analyze?\n",
    "    > Thanks to different plot like the last one : sns.countplot(x=\"ride_id_lengths\", data=merged_df)\n",
    "1.  Have you documented your cleaning process so you can review and share those results?\n",
    "    > Yes I did\n"
   ]
  },
  {
   "cell_type": "code",
   "execution_count": 16,
   "id": "5b8d15de",
   "metadata": {},
   "outputs": [
    {
     "data": {
      "text/html": [
       "<div>\n",
       "<style scoped>\n",
       "    .dataframe tbody tr th:only-of-type {\n",
       "        vertical-align: middle;\n",
       "    }\n",
       "\n",
       "    .dataframe tbody tr th {\n",
       "        vertical-align: top;\n",
       "    }\n",
       "\n",
       "    .dataframe thead th {\n",
       "        text-align: right;\n",
       "    }\n",
       "</style>\n",
       "<table border=\"1\" class=\"dataframe\">\n",
       "  <thead>\n",
       "    <tr style=\"text-align: right;\">\n",
       "      <th></th>\n",
       "      <th>ride_id</th>\n",
       "      <th>rideable_type</th>\n",
       "      <th>started_at</th>\n",
       "      <th>ended_at</th>\n",
       "      <th>start_station_name</th>\n",
       "      <th>start_station_id</th>\n",
       "      <th>end_station_name</th>\n",
       "      <th>end_station_id</th>\n",
       "      <th>start_lat</th>\n",
       "      <th>start_lng</th>\n",
       "      <th>end_lat</th>\n",
       "      <th>end_lng</th>\n",
       "      <th>member_casual</th>\n",
       "      <th>ride_id_lengths</th>\n",
       "    </tr>\n",
       "  </thead>\n",
       "  <tbody>\n",
       "    <tr>\n",
       "      <th>0</th>\n",
       "      <td>89E7AA6C29227EFF</td>\n",
       "      <td>classic_bike</td>\n",
       "      <td>2021-02-12 16:14:56</td>\n",
       "      <td>2021-02-12 16:21:43</td>\n",
       "      <td>Glenwood Ave &amp; Touhy Ave</td>\n",
       "      <td>525</td>\n",
       "      <td>Sheridan Rd &amp; Columbia Ave</td>\n",
       "      <td>660</td>\n",
       "      <td>42.012701</td>\n",
       "      <td>-87.666058</td>\n",
       "      <td>42.004583</td>\n",
       "      <td>-87.661406</td>\n",
       "      <td>member</td>\n",
       "      <td>True</td>\n",
       "    </tr>\n",
       "    <tr>\n",
       "      <th>1</th>\n",
       "      <td>0FEFDE2603568365</td>\n",
       "      <td>classic_bike</td>\n",
       "      <td>2021-02-14 17:52:38</td>\n",
       "      <td>2021-02-14 18:12:09</td>\n",
       "      <td>Glenwood Ave &amp; Touhy Ave</td>\n",
       "      <td>525</td>\n",
       "      <td>Bosworth Ave &amp; Howard St</td>\n",
       "      <td>16806</td>\n",
       "      <td>42.012701</td>\n",
       "      <td>-87.666058</td>\n",
       "      <td>42.019537</td>\n",
       "      <td>-87.669563</td>\n",
       "      <td>casual</td>\n",
       "      <td>True</td>\n",
       "    </tr>\n",
       "    <tr>\n",
       "      <th>2</th>\n",
       "      <td>E6159D746B2DBB91</td>\n",
       "      <td>electric_bike</td>\n",
       "      <td>2021-02-09 19:10:18</td>\n",
       "      <td>2021-02-09 19:19:10</td>\n",
       "      <td>Clark St &amp; Lake St</td>\n",
       "      <td>KA1503000012</td>\n",
       "      <td>State St &amp; Randolph St</td>\n",
       "      <td>TA1305000029</td>\n",
       "      <td>41.885795</td>\n",
       "      <td>-87.631101</td>\n",
       "      <td>41.884866</td>\n",
       "      <td>-87.627498</td>\n",
       "      <td>member</td>\n",
       "      <td>True</td>\n",
       "    </tr>\n",
       "    <tr>\n",
       "      <th>3</th>\n",
       "      <td>B32D3199F1C2E75B</td>\n",
       "      <td>classic_bike</td>\n",
       "      <td>2021-02-02 17:49:41</td>\n",
       "      <td>2021-02-02 17:54:06</td>\n",
       "      <td>Wood St &amp; Chicago Ave</td>\n",
       "      <td>637</td>\n",
       "      <td>Honore St &amp; Division St</td>\n",
       "      <td>TA1305000034</td>\n",
       "      <td>41.895634</td>\n",
       "      <td>-87.672069</td>\n",
       "      <td>41.903119</td>\n",
       "      <td>-87.673935</td>\n",
       "      <td>member</td>\n",
       "      <td>True</td>\n",
       "    </tr>\n",
       "    <tr>\n",
       "      <th>4</th>\n",
       "      <td>83E463F23575F4BF</td>\n",
       "      <td>electric_bike</td>\n",
       "      <td>2021-02-23 15:07:23</td>\n",
       "      <td>2021-02-23 15:22:37</td>\n",
       "      <td>State St &amp; 33rd St</td>\n",
       "      <td>13216</td>\n",
       "      <td>Emerald Ave &amp; 31st St</td>\n",
       "      <td>TA1309000055</td>\n",
       "      <td>41.834733</td>\n",
       "      <td>-87.625827</td>\n",
       "      <td>41.838163</td>\n",
       "      <td>-87.645123</td>\n",
       "      <td>member</td>\n",
       "      <td>True</td>\n",
       "    </tr>\n",
       "  </tbody>\n",
       "</table>\n",
       "</div>"
      ],
      "text/plain": [
       "            ride_id  rideable_type           started_at             ended_at  \\\n",
       "0  89E7AA6C29227EFF   classic_bike  2021-02-12 16:14:56  2021-02-12 16:21:43   \n",
       "1  0FEFDE2603568365   classic_bike  2021-02-14 17:52:38  2021-02-14 18:12:09   \n",
       "2  E6159D746B2DBB91  electric_bike  2021-02-09 19:10:18  2021-02-09 19:19:10   \n",
       "3  B32D3199F1C2E75B   classic_bike  2021-02-02 17:49:41  2021-02-02 17:54:06   \n",
       "4  83E463F23575F4BF  electric_bike  2021-02-23 15:07:23  2021-02-23 15:22:37   \n",
       "\n",
       "         start_station_name start_station_id            end_station_name  \\\n",
       "0  Glenwood Ave & Touhy Ave              525  Sheridan Rd & Columbia Ave   \n",
       "1  Glenwood Ave & Touhy Ave              525    Bosworth Ave & Howard St   \n",
       "2        Clark St & Lake St     KA1503000012      State St & Randolph St   \n",
       "3     Wood St & Chicago Ave              637     Honore St & Division St   \n",
       "4        State St & 33rd St            13216       Emerald Ave & 31st St   \n",
       "\n",
       "  end_station_id  start_lat  start_lng    end_lat    end_lng member_casual  \\\n",
       "0            660  42.012701 -87.666058  42.004583 -87.661406        member   \n",
       "1          16806  42.012701 -87.666058  42.019537 -87.669563        casual   \n",
       "2   TA1305000029  41.885795 -87.631101  41.884866 -87.627498        member   \n",
       "3   TA1305000034  41.895634 -87.672069  41.903119 -87.673935        member   \n",
       "4   TA1309000055  41.834733 -87.625827  41.838163 -87.645123        member   \n",
       "\n",
       "   ride_id_lengths  \n",
       "0             True  \n",
       "1             True  \n",
       "2             True  \n",
       "3             True  \n",
       "4             True  "
      ]
     },
     "execution_count": 16,
     "metadata": {},
     "output_type": "execute_result"
    }
   ],
   "source": [
    "merged_df.head()"
   ]
  },
  {
   "cell_type": "code",
   "execution_count": 17,
   "id": "8ff956d0",
   "metadata": {},
   "outputs": [
    {
     "name": "stdout",
     "output_type": "stream",
     "text": [
      "<class 'pandas.core.frame.DataFrame'>\n",
      "RangeIndex: 5601999 entries, 0 to 5601998\n",
      "Data columns (total 14 columns):\n",
      " #   Column              Dtype  \n",
      "---  ------              -----  \n",
      " 0   ride_id             object \n",
      " 1   rideable_type       object \n",
      " 2   started_at          object \n",
      " 3   ended_at            object \n",
      " 4   start_station_name  object \n",
      " 5   start_station_id    object \n",
      " 6   end_station_name    object \n",
      " 7   end_station_id      object \n",
      " 8   start_lat           float64\n",
      " 9   start_lng           float64\n",
      " 10  end_lat             float64\n",
      " 11  end_lng             float64\n",
      " 12  member_casual       object \n",
      " 13  ride_id_lengths     bool   \n",
      "dtypes: bool(1), float64(4), object(9)\n",
      "memory usage: 561.0+ MB\n"
     ]
    }
   ],
   "source": [
    "# Check the Dtype of start_at and ended_at\n",
    "merged_df.info()"
   ]
  },
  {
   "cell_type": "code",
   "execution_count": 18,
   "id": "29319697",
   "metadata": {},
   "outputs": [],
   "source": [
    "# Translate the type into datetime to calculate it after\n",
    "merged_df['started_at'] =  pd.to_datetime(merged_df['started_at'], format='%Y-%m-%d %H:%M:%S')\n",
    "merged_df['ended_at'] =  pd.to_datetime(merged_df['ended_at'], format='%Y-%m-%d %H:%M:%S')"
   ]
  },
  {
   "cell_type": "code",
   "execution_count": 19,
   "id": "4ff3ed7d",
   "metadata": {},
   "outputs": [],
   "source": [
    "# Calculate the time of the ride \n",
    "merged_df[\"ride_length\"] = merged_df['ended_at'] - merged_df['started_at']"
   ]
  },
  {
   "cell_type": "code",
   "execution_count": 20,
   "id": "bc6f85e9",
   "metadata": {
    "scrolled": true
   },
   "outputs": [
    {
     "data": {
      "text/html": [
       "<div>\n",
       "<style scoped>\n",
       "    .dataframe tbody tr th:only-of-type {\n",
       "        vertical-align: middle;\n",
       "    }\n",
       "\n",
       "    .dataframe tbody tr th {\n",
       "        vertical-align: top;\n",
       "    }\n",
       "\n",
       "    .dataframe thead th {\n",
       "        text-align: right;\n",
       "    }\n",
       "</style>\n",
       "<table border=\"1\" class=\"dataframe\">\n",
       "  <thead>\n",
       "    <tr style=\"text-align: right;\">\n",
       "      <th></th>\n",
       "      <th>ride_id</th>\n",
       "      <th>rideable_type</th>\n",
       "      <th>started_at</th>\n",
       "      <th>ended_at</th>\n",
       "      <th>start_station_name</th>\n",
       "      <th>start_station_id</th>\n",
       "      <th>end_station_name</th>\n",
       "      <th>end_station_id</th>\n",
       "      <th>start_lat</th>\n",
       "      <th>start_lng</th>\n",
       "      <th>end_lat</th>\n",
       "      <th>end_lng</th>\n",
       "      <th>member_casual</th>\n",
       "      <th>ride_id_lengths</th>\n",
       "      <th>ride_length</th>\n",
       "    </tr>\n",
       "  </thead>\n",
       "  <tbody>\n",
       "    <tr>\n",
       "      <th>0</th>\n",
       "      <td>89E7AA6C29227EFF</td>\n",
       "      <td>classic_bike</td>\n",
       "      <td>2021-02-12 16:14:56</td>\n",
       "      <td>2021-02-12 16:21:43</td>\n",
       "      <td>Glenwood Ave &amp; Touhy Ave</td>\n",
       "      <td>525</td>\n",
       "      <td>Sheridan Rd &amp; Columbia Ave</td>\n",
       "      <td>660</td>\n",
       "      <td>42.012701</td>\n",
       "      <td>-87.666058</td>\n",
       "      <td>42.004583</td>\n",
       "      <td>-87.661406</td>\n",
       "      <td>member</td>\n",
       "      <td>True</td>\n",
       "      <td>0 days 00:06:47</td>\n",
       "    </tr>\n",
       "    <tr>\n",
       "      <th>1</th>\n",
       "      <td>0FEFDE2603568365</td>\n",
       "      <td>classic_bike</td>\n",
       "      <td>2021-02-14 17:52:38</td>\n",
       "      <td>2021-02-14 18:12:09</td>\n",
       "      <td>Glenwood Ave &amp; Touhy Ave</td>\n",
       "      <td>525</td>\n",
       "      <td>Bosworth Ave &amp; Howard St</td>\n",
       "      <td>16806</td>\n",
       "      <td>42.012701</td>\n",
       "      <td>-87.666058</td>\n",
       "      <td>42.019537</td>\n",
       "      <td>-87.669563</td>\n",
       "      <td>casual</td>\n",
       "      <td>True</td>\n",
       "      <td>0 days 00:19:31</td>\n",
       "    </tr>\n",
       "    <tr>\n",
       "      <th>2</th>\n",
       "      <td>E6159D746B2DBB91</td>\n",
       "      <td>electric_bike</td>\n",
       "      <td>2021-02-09 19:10:18</td>\n",
       "      <td>2021-02-09 19:19:10</td>\n",
       "      <td>Clark St &amp; Lake St</td>\n",
       "      <td>KA1503000012</td>\n",
       "      <td>State St &amp; Randolph St</td>\n",
       "      <td>TA1305000029</td>\n",
       "      <td>41.885795</td>\n",
       "      <td>-87.631101</td>\n",
       "      <td>41.884866</td>\n",
       "      <td>-87.627498</td>\n",
       "      <td>member</td>\n",
       "      <td>True</td>\n",
       "      <td>0 days 00:08:52</td>\n",
       "    </tr>\n",
       "    <tr>\n",
       "      <th>3</th>\n",
       "      <td>B32D3199F1C2E75B</td>\n",
       "      <td>classic_bike</td>\n",
       "      <td>2021-02-02 17:49:41</td>\n",
       "      <td>2021-02-02 17:54:06</td>\n",
       "      <td>Wood St &amp; Chicago Ave</td>\n",
       "      <td>637</td>\n",
       "      <td>Honore St &amp; Division St</td>\n",
       "      <td>TA1305000034</td>\n",
       "      <td>41.895634</td>\n",
       "      <td>-87.672069</td>\n",
       "      <td>41.903119</td>\n",
       "      <td>-87.673935</td>\n",
       "      <td>member</td>\n",
       "      <td>True</td>\n",
       "      <td>0 days 00:04:25</td>\n",
       "    </tr>\n",
       "    <tr>\n",
       "      <th>4</th>\n",
       "      <td>83E463F23575F4BF</td>\n",
       "      <td>electric_bike</td>\n",
       "      <td>2021-02-23 15:07:23</td>\n",
       "      <td>2021-02-23 15:22:37</td>\n",
       "      <td>State St &amp; 33rd St</td>\n",
       "      <td>13216</td>\n",
       "      <td>Emerald Ave &amp; 31st St</td>\n",
       "      <td>TA1309000055</td>\n",
       "      <td>41.834733</td>\n",
       "      <td>-87.625827</td>\n",
       "      <td>41.838163</td>\n",
       "      <td>-87.645123</td>\n",
       "      <td>member</td>\n",
       "      <td>True</td>\n",
       "      <td>0 days 00:15:14</td>\n",
       "    </tr>\n",
       "  </tbody>\n",
       "</table>\n",
       "</div>"
      ],
      "text/plain": [
       "            ride_id  rideable_type          started_at            ended_at  \\\n",
       "0  89E7AA6C29227EFF   classic_bike 2021-02-12 16:14:56 2021-02-12 16:21:43   \n",
       "1  0FEFDE2603568365   classic_bike 2021-02-14 17:52:38 2021-02-14 18:12:09   \n",
       "2  E6159D746B2DBB91  electric_bike 2021-02-09 19:10:18 2021-02-09 19:19:10   \n",
       "3  B32D3199F1C2E75B   classic_bike 2021-02-02 17:49:41 2021-02-02 17:54:06   \n",
       "4  83E463F23575F4BF  electric_bike 2021-02-23 15:07:23 2021-02-23 15:22:37   \n",
       "\n",
       "         start_station_name start_station_id            end_station_name  \\\n",
       "0  Glenwood Ave & Touhy Ave              525  Sheridan Rd & Columbia Ave   \n",
       "1  Glenwood Ave & Touhy Ave              525    Bosworth Ave & Howard St   \n",
       "2        Clark St & Lake St     KA1503000012      State St & Randolph St   \n",
       "3     Wood St & Chicago Ave              637     Honore St & Division St   \n",
       "4        State St & 33rd St            13216       Emerald Ave & 31st St   \n",
       "\n",
       "  end_station_id  start_lat  start_lng    end_lat    end_lng member_casual  \\\n",
       "0            660  42.012701 -87.666058  42.004583 -87.661406        member   \n",
       "1          16806  42.012701 -87.666058  42.019537 -87.669563        casual   \n",
       "2   TA1305000029  41.885795 -87.631101  41.884866 -87.627498        member   \n",
       "3   TA1305000034  41.895634 -87.672069  41.903119 -87.673935        member   \n",
       "4   TA1309000055  41.834733 -87.625827  41.838163 -87.645123        member   \n",
       "\n",
       "   ride_id_lengths     ride_length  \n",
       "0             True 0 days 00:06:47  \n",
       "1             True 0 days 00:19:31  \n",
       "2             True 0 days 00:08:52  \n",
       "3             True 0 days 00:04:25  \n",
       "4             True 0 days 00:15:14  "
      ]
     },
     "execution_count": 20,
     "metadata": {},
     "output_type": "execute_result"
    }
   ],
   "source": [
    "merged_df.head()"
   ]
  },
  {
   "cell_type": "code",
   "execution_count": 21,
   "id": "b50f1b7e",
   "metadata": {
    "scrolled": true
   },
   "outputs": [
    {
     "name": "stdout",
     "output_type": "stream",
     "text": [
      "38 days 20:24:09\n"
     ]
    }
   ],
   "source": [
    "# Check the max value of the ride (the longest ride)\n",
    "column = merged_df[\"ride_length\"]\n",
    "max_value = column.max()\n",
    "print (max_value)"
   ]
  },
  {
   "cell_type": "code",
   "execution_count": 22,
   "id": "85a60cde",
   "metadata": {},
   "outputs": [
    {
     "data": {
      "text/plain": [
       "1274061   25 days 09:02:09\n",
       "1577850   26 days 16:18:36\n",
       "1990931   26 days 20:45:16\n",
       "1691230   27 days 00:42:55\n",
       "330965    27 days 01:23:05\n",
       "1416257   27 days 09:19:09\n",
       "1981685   27 days 11:47:11\n",
       "1691343   28 days 00:00:34\n",
       "2310370   28 days 00:21:15\n",
       "4620039   28 days 06:25:01\n",
       "2207966   28 days 06:44:36\n",
       "2891697   28 days 21:49:10\n",
       "1892610   28 days 22:05:31\n",
       "1693875   32 days 15:30:51\n",
       "288165    33 days 04:16:42\n",
       "2516922   34 days 02:27:09\n",
       "1228694   36 days 14:21:23\n",
       "661669    37 days 10:41:36\n",
       "1692457   38 days 16:11:41\n",
       "1742664   38 days 20:24:09\n",
       "Name: ride_length, dtype: timedelta64[ns]"
      ]
     },
     "execution_count": 22,
     "metadata": {},
     "output_type": "execute_result"
    }
   ],
   "source": [
    "# Test sort()\n",
    "merged_df.sort_values(by=['ride_length'])['ride_length'].tail(20)\n"
   ]
  },
  {
   "cell_type": "code",
   "execution_count": 23,
   "id": "f8e6de22",
   "metadata": {},
   "outputs": [
    {
     "data": {
      "text/plain": [
       "Timedelta('0 days 00:21:55.620539917')"
      ]
     },
     "execution_count": 23,
     "metadata": {},
     "output_type": "execute_result"
    }
   ],
   "source": [
    "# Calcul of the mean 'ride_length'\n",
    "merged_df['ride_length'].mean()"
   ]
  },
  {
   "cell_type": "code",
   "execution_count": 24,
   "id": "209b9763",
   "metadata": {},
   "outputs": [
    {
     "data": {
      "text/plain": [
       "0    member\n",
       "Name: member_casual, dtype: object"
      ]
     },
     "execution_count": 24,
     "metadata": {},
     "output_type": "execute_result"
    }
   ],
   "source": [
    "# We can conclud that there is more member than casual\n",
    "merged_df['member_casual'].mode()\n"
   ]
  },
  {
   "cell_type": "code",
   "execution_count": 45,
   "id": "edcea2de",
   "metadata": {},
   "outputs": [
    {
     "data": {
      "text/plain": [
       "0        Friday\n",
       "1        Sunday\n",
       "2       Tuesday\n",
       "3       Tuesday\n",
       "4       Tuesday\n",
       "5     Wednesday\n",
       "6        Monday\n",
       "7      Thursday\n",
       "8      Saturday\n",
       "9      Saturday\n",
       "10     Saturday\n",
       "11     Saturday\n",
       "12     Thursday\n",
       "13       Friday\n",
       "14     Saturday\n",
       "15       Friday\n",
       "16     Thursday\n",
       "17     Saturday\n",
       "18      Tuesday\n",
       "19      Tuesday\n",
       "Name: started_at, dtype: object"
      ]
     },
     "execution_count": 45,
     "metadata": {},
     "output_type": "execute_result"
    }
   ],
   "source": [
    "# translation from date format to day of the week name format\n",
    "merged_df['started_at'].head(20).dt.day_name()"
   ]
  },
  {
   "cell_type": "code",
   "execution_count": 26,
   "id": "77da86f6",
   "metadata": {},
   "outputs": [],
   "source": [
    "# add the new column ['started_at_day']\n",
    "merged_df['started_at_day'] = merged_df['started_at'].dt.day_name()"
   ]
  },
  {
   "cell_type": "code",
   "execution_count": 27,
   "id": "d2a96f64",
   "metadata": {},
   "outputs": [
    {
     "data": {
      "text/plain": [
       "0    Saturday\n",
       "Name: started_at_day, dtype: object"
      ]
     },
     "execution_count": 27,
     "metadata": {},
     "output_type": "execute_result"
    }
   ],
   "source": [
    "# most occuring value\n",
    "merged_df['started_at_day'].mode()"
   ]
  },
  {
   "cell_type": "code",
   "execution_count": 28,
   "id": "ab23009f",
   "metadata": {},
   "outputs": [
    {
     "data": {
      "text/plain": [
       "Saturday     989494\n",
       "Sunday       857058\n",
       "Friday       808836\n",
       "Wednesday    758014\n",
       "Tuesday      743603\n",
       "Thursday     739826\n",
       "Monday       705168\n",
       "Name: started_at_day, dtype: int64"
      ]
     },
     "execution_count": 28,
     "metadata": {},
     "output_type": "execute_result"
    }
   ],
   "source": [
    "# occurence of each day\n",
    "merged_df['started_at_day'].value_counts()"
   ]
  },
  {
   "cell_type": "code",
   "execution_count": 29,
   "id": "59155c1c",
   "metadata": {
    "scrolled": true
   },
   "outputs": [],
   "source": [
    "# compare averages between casual and member (like a pivot table)\n",
    "average_ride_length = merged_df.groupby('member_casual', as_index=False)['ride_length'].mean()"
   ]
  },
  {
   "cell_type": "code",
   "execution_count": 30,
   "id": "1c47fb1c",
   "metadata": {},
   "outputs": [],
   "source": [
    "# reduce the precision of the ride_length in s \n",
    "average_ride_length['ride_length'] = average_ride_length['ride_length'].round('s')"
   ]
  },
  {
   "cell_type": "code",
   "execution_count": 31,
   "id": "ccf34070",
   "metadata": {},
   "outputs": [
    {
     "data": {
      "text/html": [
       "<div>\n",
       "<style scoped>\n",
       "    .dataframe tbody tr th:only-of-type {\n",
       "        vertical-align: middle;\n",
       "    }\n",
       "\n",
       "    .dataframe tbody tr th {\n",
       "        vertical-align: top;\n",
       "    }\n",
       "\n",
       "    .dataframe thead th {\n",
       "        text-align: right;\n",
       "    }\n",
       "</style>\n",
       "<table border=\"1\" class=\"dataframe\">\n",
       "  <thead>\n",
       "    <tr style=\"text-align: right;\">\n",
       "      <th></th>\n",
       "      <th>member_casual</th>\n",
       "      <th>ride_length</th>\n",
       "    </tr>\n",
       "  </thead>\n",
       "  <tbody>\n",
       "    <tr>\n",
       "      <th>0</th>\n",
       "      <td>casual</td>\n",
       "      <td>0 days 00:32:02</td>\n",
       "    </tr>\n",
       "    <tr>\n",
       "      <th>1</th>\n",
       "      <td>member</td>\n",
       "      <td>0 days 00:13:36</td>\n",
       "    </tr>\n",
       "  </tbody>\n",
       "</table>\n",
       "</div>"
      ],
      "text/plain": [
       "  member_casual     ride_length\n",
       "0        casual 0 days 00:32:02\n",
       "1        member 0 days 00:13:36"
      ]
     },
     "execution_count": 31,
     "metadata": {},
     "output_type": "execute_result"
    }
   ],
   "source": [
    "# average of the ride length per tpe of member\n",
    "average_ride_length"
   ]
  },
  {
   "cell_type": "code",
   "execution_count": 32,
   "id": "a9008def",
   "metadata": {},
   "outputs": [],
   "source": [
    "# new column that illustrate the ride_length per the day and the type of member (like a pivot table comparaison)\n",
    "pivot_table_member_and_day = merged_df.groupby(['started_at_day','member_casual'], as_index=False)['ride_length'].mean()"
   ]
  },
  {
   "cell_type": "code",
   "execution_count": 33,
   "id": "5fd15bb2",
   "metadata": {},
   "outputs": [],
   "source": [
    "# rounding in secondes\n",
    "pivot_table_member_and_day['ride_length'] = pivot_table_member_and_day['ride_length'].round('s')"
   ]
  },
  {
   "cell_type": "code",
   "execution_count": 34,
   "id": "16f19be4",
   "metadata": {
    "scrolled": true
   },
   "outputs": [
    {
     "data": {
      "text/html": [
       "<div>\n",
       "<style scoped>\n",
       "    .dataframe tbody tr th:only-of-type {\n",
       "        vertical-align: middle;\n",
       "    }\n",
       "\n",
       "    .dataframe tbody tr th {\n",
       "        vertical-align: top;\n",
       "    }\n",
       "\n",
       "    .dataframe thead th {\n",
       "        text-align: right;\n",
       "    }\n",
       "</style>\n",
       "<table border=\"1\" class=\"dataframe\">\n",
       "  <thead>\n",
       "    <tr style=\"text-align: right;\">\n",
       "      <th></th>\n",
       "      <th>started_at_day</th>\n",
       "      <th>member_casual</th>\n",
       "      <th>ride_length</th>\n",
       "    </tr>\n",
       "  </thead>\n",
       "  <tbody>\n",
       "    <tr>\n",
       "      <th>0</th>\n",
       "      <td>Friday</td>\n",
       "      <td>casual</td>\n",
       "      <td>0 days 00:30:22</td>\n",
       "    </tr>\n",
       "    <tr>\n",
       "      <th>1</th>\n",
       "      <td>Friday</td>\n",
       "      <td>member</td>\n",
       "      <td>0 days 00:13:19</td>\n",
       "    </tr>\n",
       "    <tr>\n",
       "      <th>2</th>\n",
       "      <td>Monday</td>\n",
       "      <td>casual</td>\n",
       "      <td>0 days 00:31:56</td>\n",
       "    </tr>\n",
       "    <tr>\n",
       "      <th>3</th>\n",
       "      <td>Monday</td>\n",
       "      <td>member</td>\n",
       "      <td>0 days 00:13:11</td>\n",
       "    </tr>\n",
       "    <tr>\n",
       "      <th>4</th>\n",
       "      <td>Saturday</td>\n",
       "      <td>casual</td>\n",
       "      <td>0 days 00:34:45</td>\n",
       "    </tr>\n",
       "    <tr>\n",
       "      <th>5</th>\n",
       "      <td>Saturday</td>\n",
       "      <td>member</td>\n",
       "      <td>0 days 00:15:14</td>\n",
       "    </tr>\n",
       "    <tr>\n",
       "      <th>6</th>\n",
       "      <td>Sunday</td>\n",
       "      <td>casual</td>\n",
       "      <td>0 days 00:37:33</td>\n",
       "    </tr>\n",
       "    <tr>\n",
       "      <th>7</th>\n",
       "      <td>Sunday</td>\n",
       "      <td>member</td>\n",
       "      <td>0 days 00:15:39</td>\n",
       "    </tr>\n",
       "    <tr>\n",
       "      <th>8</th>\n",
       "      <td>Thursday</td>\n",
       "      <td>casual</td>\n",
       "      <td>0 days 00:27:49</td>\n",
       "    </tr>\n",
       "    <tr>\n",
       "      <th>9</th>\n",
       "      <td>Thursday</td>\n",
       "      <td>member</td>\n",
       "      <td>0 days 00:12:45</td>\n",
       "    </tr>\n",
       "    <tr>\n",
       "      <th>10</th>\n",
       "      <td>Tuesday</td>\n",
       "      <td>casual</td>\n",
       "      <td>0 days 00:27:56</td>\n",
       "    </tr>\n",
       "    <tr>\n",
       "      <th>11</th>\n",
       "      <td>Tuesday</td>\n",
       "      <td>member</td>\n",
       "      <td>0 days 00:12:47</td>\n",
       "    </tr>\n",
       "    <tr>\n",
       "      <th>12</th>\n",
       "      <td>Wednesday</td>\n",
       "      <td>casual</td>\n",
       "      <td>0 days 00:27:45</td>\n",
       "    </tr>\n",
       "    <tr>\n",
       "      <th>13</th>\n",
       "      <td>Wednesday</td>\n",
       "      <td>member</td>\n",
       "      <td>0 days 00:12:46</td>\n",
       "    </tr>\n",
       "  </tbody>\n",
       "</table>\n",
       "</div>"
      ],
      "text/plain": [
       "   started_at_day member_casual     ride_length\n",
       "0          Friday        casual 0 days 00:30:22\n",
       "1          Friday        member 0 days 00:13:19\n",
       "2          Monday        casual 0 days 00:31:56\n",
       "3          Monday        member 0 days 00:13:11\n",
       "4        Saturday        casual 0 days 00:34:45\n",
       "5        Saturday        member 0 days 00:15:14\n",
       "6          Sunday        casual 0 days 00:37:33\n",
       "7          Sunday        member 0 days 00:15:39\n",
       "8        Thursday        casual 0 days 00:27:49\n",
       "9        Thursday        member 0 days 00:12:45\n",
       "10        Tuesday        casual 0 days 00:27:56\n",
       "11        Tuesday        member 0 days 00:12:47\n",
       "12      Wednesday        casual 0 days 00:27:45\n",
       "13      Wednesday        member 0 days 00:12:46"
      ]
     },
     "execution_count": 34,
     "metadata": {},
     "output_type": "execute_result"
    }
   ],
   "source": [
    "pivot_table_member_and_day"
   ]
  },
  {
   "cell_type": "code",
   "execution_count": 35,
   "id": "a34a5fe5",
   "metadata": {},
   "outputs": [],
   "source": [
    "# count the different type of ride per type of member\n",
    "pivot_table_member_ride_type = merged_df.groupby('member_casual', as_index=False)['rideable_type'].value_counts()"
   ]
  },
  {
   "cell_type": "code",
   "execution_count": 36,
   "id": "7f5d37b0",
   "metadata": {},
   "outputs": [
    {
     "data": {
      "text/html": [
       "<div>\n",
       "<style scoped>\n",
       "    .dataframe tbody tr th:only-of-type {\n",
       "        vertical-align: middle;\n",
       "    }\n",
       "\n",
       "    .dataframe tbody tr th {\n",
       "        vertical-align: top;\n",
       "    }\n",
       "\n",
       "    .dataframe thead th {\n",
       "        text-align: right;\n",
       "    }\n",
       "</style>\n",
       "<table border=\"1\" class=\"dataframe\">\n",
       "  <thead>\n",
       "    <tr style=\"text-align: right;\">\n",
       "      <th></th>\n",
       "      <th>member_casual</th>\n",
       "      <th>rideable_type</th>\n",
       "      <th>count</th>\n",
       "    </tr>\n",
       "  </thead>\n",
       "  <tbody>\n",
       "    <tr>\n",
       "      <th>0</th>\n",
       "      <td>casual</td>\n",
       "      <td>classic_bike</td>\n",
       "      <td>1265372</td>\n",
       "    </tr>\n",
       "    <tr>\n",
       "      <th>1</th>\n",
       "      <td>casual</td>\n",
       "      <td>electric_bike</td>\n",
       "      <td>952838</td>\n",
       "    </tr>\n",
       "    <tr>\n",
       "      <th>2</th>\n",
       "      <td>casual</td>\n",
       "      <td>docked_bike</td>\n",
       "      <td>311198</td>\n",
       "    </tr>\n",
       "    <tr>\n",
       "      <th>3</th>\n",
       "      <td>member</td>\n",
       "      <td>classic_bike</td>\n",
       "      <td>1979023</td>\n",
       "    </tr>\n",
       "    <tr>\n",
       "      <th>4</th>\n",
       "      <td>member</td>\n",
       "      <td>electric_bike</td>\n",
       "      <td>1093568</td>\n",
       "    </tr>\n",
       "  </tbody>\n",
       "</table>\n",
       "</div>"
      ],
      "text/plain": [
       "  member_casual  rideable_type    count\n",
       "0        casual   classic_bike  1265372\n",
       "1        casual  electric_bike   952838\n",
       "2        casual    docked_bike   311198\n",
       "3        member   classic_bike  1979023\n",
       "4        member  electric_bike  1093568"
      ]
     },
     "execution_count": 36,
     "metadata": {},
     "output_type": "execute_result"
    }
   ],
   "source": [
    "#  illustration of the count the different type of ride per type of member\n",
    "pivot_table_member_ride_type"
   ]
  },
  {
   "cell_type": "code",
   "execution_count": 37,
   "id": "4589230c",
   "metadata": {},
   "outputs": [
    {
     "data": {
      "text/html": [
       "<div>\n",
       "<style scoped>\n",
       "    .dataframe tbody tr th:only-of-type {\n",
       "        vertical-align: middle;\n",
       "    }\n",
       "\n",
       "    .dataframe tbody tr th {\n",
       "        vertical-align: top;\n",
       "    }\n",
       "\n",
       "    .dataframe thead th {\n",
       "        text-align: right;\n",
       "    }\n",
       "</style>\n",
       "<table border=\"1\" class=\"dataframe\">\n",
       "  <thead>\n",
       "    <tr style=\"text-align: right;\">\n",
       "      <th></th>\n",
       "      <th>ride_id</th>\n",
       "      <th>rideable_type</th>\n",
       "      <th>started_at</th>\n",
       "      <th>ended_at</th>\n",
       "      <th>start_station_name</th>\n",
       "      <th>start_station_id</th>\n",
       "      <th>end_station_name</th>\n",
       "      <th>end_station_id</th>\n",
       "      <th>start_lat</th>\n",
       "      <th>start_lng</th>\n",
       "      <th>end_lat</th>\n",
       "      <th>end_lng</th>\n",
       "      <th>member_casual</th>\n",
       "      <th>ride_id_lengths</th>\n",
       "      <th>ride_length</th>\n",
       "      <th>started_at_day</th>\n",
       "    </tr>\n",
       "  </thead>\n",
       "  <tbody>\n",
       "    <tr>\n",
       "      <th>0</th>\n",
       "      <td>89E7AA6C29227EFF</td>\n",
       "      <td>classic_bike</td>\n",
       "      <td>2021-02-12 16:14:56</td>\n",
       "      <td>2021-02-12 16:21:43</td>\n",
       "      <td>Glenwood Ave &amp; Touhy Ave</td>\n",
       "      <td>525</td>\n",
       "      <td>Sheridan Rd &amp; Columbia Ave</td>\n",
       "      <td>660</td>\n",
       "      <td>42.012701</td>\n",
       "      <td>-87.666058</td>\n",
       "      <td>42.004583</td>\n",
       "      <td>-87.661406</td>\n",
       "      <td>member</td>\n",
       "      <td>True</td>\n",
       "      <td>0 days 00:06:47</td>\n",
       "      <td>Friday</td>\n",
       "    </tr>\n",
       "    <tr>\n",
       "      <th>1</th>\n",
       "      <td>0FEFDE2603568365</td>\n",
       "      <td>classic_bike</td>\n",
       "      <td>2021-02-14 17:52:38</td>\n",
       "      <td>2021-02-14 18:12:09</td>\n",
       "      <td>Glenwood Ave &amp; Touhy Ave</td>\n",
       "      <td>525</td>\n",
       "      <td>Bosworth Ave &amp; Howard St</td>\n",
       "      <td>16806</td>\n",
       "      <td>42.012701</td>\n",
       "      <td>-87.666058</td>\n",
       "      <td>42.019537</td>\n",
       "      <td>-87.669563</td>\n",
       "      <td>casual</td>\n",
       "      <td>True</td>\n",
       "      <td>0 days 00:19:31</td>\n",
       "      <td>Sunday</td>\n",
       "    </tr>\n",
       "    <tr>\n",
       "      <th>2</th>\n",
       "      <td>E6159D746B2DBB91</td>\n",
       "      <td>electric_bike</td>\n",
       "      <td>2021-02-09 19:10:18</td>\n",
       "      <td>2021-02-09 19:19:10</td>\n",
       "      <td>Clark St &amp; Lake St</td>\n",
       "      <td>KA1503000012</td>\n",
       "      <td>State St &amp; Randolph St</td>\n",
       "      <td>TA1305000029</td>\n",
       "      <td>41.885795</td>\n",
       "      <td>-87.631101</td>\n",
       "      <td>41.884866</td>\n",
       "      <td>-87.627498</td>\n",
       "      <td>member</td>\n",
       "      <td>True</td>\n",
       "      <td>0 days 00:08:52</td>\n",
       "      <td>Tuesday</td>\n",
       "    </tr>\n",
       "    <tr>\n",
       "      <th>3</th>\n",
       "      <td>B32D3199F1C2E75B</td>\n",
       "      <td>classic_bike</td>\n",
       "      <td>2021-02-02 17:49:41</td>\n",
       "      <td>2021-02-02 17:54:06</td>\n",
       "      <td>Wood St &amp; Chicago Ave</td>\n",
       "      <td>637</td>\n",
       "      <td>Honore St &amp; Division St</td>\n",
       "      <td>TA1305000034</td>\n",
       "      <td>41.895634</td>\n",
       "      <td>-87.672069</td>\n",
       "      <td>41.903119</td>\n",
       "      <td>-87.673935</td>\n",
       "      <td>member</td>\n",
       "      <td>True</td>\n",
       "      <td>0 days 00:04:25</td>\n",
       "      <td>Tuesday</td>\n",
       "    </tr>\n",
       "    <tr>\n",
       "      <th>4</th>\n",
       "      <td>83E463F23575F4BF</td>\n",
       "      <td>electric_bike</td>\n",
       "      <td>2021-02-23 15:07:23</td>\n",
       "      <td>2021-02-23 15:22:37</td>\n",
       "      <td>State St &amp; 33rd St</td>\n",
       "      <td>13216</td>\n",
       "      <td>Emerald Ave &amp; 31st St</td>\n",
       "      <td>TA1309000055</td>\n",
       "      <td>41.834733</td>\n",
       "      <td>-87.625827</td>\n",
       "      <td>41.838163</td>\n",
       "      <td>-87.645123</td>\n",
       "      <td>member</td>\n",
       "      <td>True</td>\n",
       "      <td>0 days 00:15:14</td>\n",
       "      <td>Tuesday</td>\n",
       "    </tr>\n",
       "  </tbody>\n",
       "</table>\n",
       "</div>"
      ],
      "text/plain": [
       "            ride_id  rideable_type          started_at            ended_at  \\\n",
       "0  89E7AA6C29227EFF   classic_bike 2021-02-12 16:14:56 2021-02-12 16:21:43   \n",
       "1  0FEFDE2603568365   classic_bike 2021-02-14 17:52:38 2021-02-14 18:12:09   \n",
       "2  E6159D746B2DBB91  electric_bike 2021-02-09 19:10:18 2021-02-09 19:19:10   \n",
       "3  B32D3199F1C2E75B   classic_bike 2021-02-02 17:49:41 2021-02-02 17:54:06   \n",
       "4  83E463F23575F4BF  electric_bike 2021-02-23 15:07:23 2021-02-23 15:22:37   \n",
       "\n",
       "         start_station_name start_station_id            end_station_name  \\\n",
       "0  Glenwood Ave & Touhy Ave              525  Sheridan Rd & Columbia Ave   \n",
       "1  Glenwood Ave & Touhy Ave              525    Bosworth Ave & Howard St   \n",
       "2        Clark St & Lake St     KA1503000012      State St & Randolph St   \n",
       "3     Wood St & Chicago Ave              637     Honore St & Division St   \n",
       "4        State St & 33rd St            13216       Emerald Ave & 31st St   \n",
       "\n",
       "  end_station_id  start_lat  start_lng    end_lat    end_lng member_casual  \\\n",
       "0            660  42.012701 -87.666058  42.004583 -87.661406        member   \n",
       "1          16806  42.012701 -87.666058  42.019537 -87.669563        casual   \n",
       "2   TA1305000029  41.885795 -87.631101  41.884866 -87.627498        member   \n",
       "3   TA1305000034  41.895634 -87.672069  41.903119 -87.673935        member   \n",
       "4   TA1309000055  41.834733 -87.625827  41.838163 -87.645123        member   \n",
       "\n",
       "   ride_id_lengths     ride_length started_at_day  \n",
       "0             True 0 days 00:06:47         Friday  \n",
       "1             True 0 days 00:19:31         Sunday  \n",
       "2             True 0 days 00:08:52        Tuesday  \n",
       "3             True 0 days 00:04:25        Tuesday  \n",
       "4             True 0 days 00:15:14        Tuesday  "
      ]
     },
     "execution_count": 37,
     "metadata": {},
     "output_type": "execute_result"
    }
   ],
   "source": [
    "merged_df.head()"
   ]
  },
  {
   "cell_type": "code",
   "execution_count": 38,
   "id": "0a851e7d",
   "metadata": {},
   "outputs": [
    {
     "data": {
      "text/plain": [
       "Saturday     989494\n",
       "Sunday       857058\n",
       "Friday       808836\n",
       "Wednesday    758014\n",
       "Tuesday      743603\n",
       "Thursday     739826\n",
       "Monday       705168\n",
       "Name: started_at_day, dtype: int64"
      ]
     },
     "execution_count": 38,
     "metadata": {},
     "output_type": "execute_result"
    }
   ],
   "source": [
    "# get count of rides group by days of the week\n",
    "merged_df['started_at_day'].value_counts()"
   ]
  },
  {
   "cell_type": "code",
   "execution_count": 39,
   "id": "d49935a9",
   "metadata": {},
   "outputs": [
    {
     "data": {
      "text/plain": [
       "<AxesSubplot:xlabel='started_at_day', ylabel='count'>"
      ]
     },
     "execution_count": 39,
     "metadata": {},
     "output_type": "execute_result"
    },
    {
     "data": {
      "image/png": "[encoded data removed]",
      "text/plain": [
       "<Figure size 842.4x595.44 with 1 Axes>"
      ]
     },
     "metadata": {},
     "output_type": "display_data"
    }
   ],
   "source": [
    "# Count of rides group by days of the week and type of member (casual or member)\n",
    "sns.set(rc={'figure.figsize':(11.7,8.27)})\n",
    "sns.countplot(x=\"started_at_day\", hue=\"member_casual\", data=merged_df)\n"
   ]
  },
  {
   "cell_type": "code",
   "execution_count": 40,
   "id": "cbba924a",
   "metadata": {},
   "outputs": [],
   "source": [
    "# convert ride_length into minutes and create a new column \"ride_length_minute\"\n",
    "merged_df[\"ride_length_minute\"] = merged_df['ride_length'] / np.timedelta64(1, 'm') \n"
   ]
  },
  {
   "cell_type": "code",
   "execution_count": 41,
   "id": "a55a2019",
   "metadata": {},
   "outputs": [],
   "source": [
    "# group by member_casual and a group by start_at_day (check graph above\n",
    "X = merged_df.groupby(by=[\"member_casual\", \"started_at_day\"], dropna=False).mean()['ride_length_minute']"
   ]
  },
  {
   "cell_type": "code",
   "execution_count": 42,
   "id": "f27a3c32",
   "metadata": {
    "scrolled": true
   },
   "outputs": [
    {
     "data": {
      "text/plain": [
       "member_casual  started_at_day\n",
       "casual         Friday            30.366576\n",
       "               Monday            31.926110\n",
       "               Saturday          34.749375\n",
       "               Sunday            37.553109\n",
       "               Thursday          27.821692\n",
       "               Tuesday           27.935986\n",
       "               Wednesday         27.745127\n",
       "member         Friday            13.317666\n",
       "               Monday            13.190951\n",
       "               Saturday          15.240294\n",
       "               Sunday            15.648421\n",
       "               Thursday          12.754084\n",
       "               Tuesday           12.785714\n",
       "               Wednesday         12.771486\n",
       "Name: ride_length_minute, dtype: float64"
      ]
     },
     "execution_count": 42,
     "metadata": {},
     "output_type": "execute_result"
    }
   ],
   "source": [
    "X"
   ]
  },
  {
   "cell_type": "code",
   "execution_count": 43,
   "id": "d85db643",
   "metadata": {},
   "outputs": [
    {
     "data": {
      "text/plain": [
       "<AxesSubplot:xlabel='started_at_day', ylabel='ride_length_minute'>"
      ]
     },
     "execution_count": 43,
     "metadata": {},
     "output_type": "execute_result"
    },
    {
     "data": {
      "image/png": "[encoded data removed]",
      "text/plain": [
       "<Figure size 842.4x595.44 with 1 Axes>"
      ]
     },
     "metadata": {},
     "output_type": "display_data"
    }
   ],
   "source": [
    "# Graph that represents the average of ride_length in minute for the member and the casual.We can see that member's rides are shorter than the casual's rides.\n",
    "sns.lineplot(data=merged_df, x=\"started_at_day\",y=\"ride_length_minute\", hue=\"member_casual\", estimator='mean')"
   ]
  }
 ],
 "metadata": {
  "kernelspec": {
   "display_name": "Python 3 (ipykernel)",
   "language": "python",
   "name": "python3"
  },
  "language_info": {
   "codemirror_mode": {
    "name": "ipython",
    "version": 3
   },
   "file_extension": ".py",
   "mimetype": "text/x-python",
   "name": "python",
   "nbconvert_exporter": "python",
   "pygments_lexer": "ipython3",
   "version": "3.10.2"
  }
 },
 "nbformat": 4,
 "nbformat_minor": 5
}
